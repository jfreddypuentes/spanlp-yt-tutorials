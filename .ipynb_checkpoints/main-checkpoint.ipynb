{
 "cells": [
  {
   "cell_type": "code",
   "execution_count": 1,
   "metadata": {},
   "outputs": [
    {
     "name": "stdout",
     "output_type": "stream",
     "text": [
      "True\n",
      "Hola ****** cómo está?\n"
     ]
    }
   ],
   "source": [
    "from spanlp.palabrota import Palabrota\n",
    "\n",
    "validador = Palabrota(censor_char=\"*\")\n",
    "\n",
    "print(validador.contains_palabrota(\"Hola huevon cómo está?\"))\n",
    "print(validador.censor(\"Hola marica cómo está?\"))"
   ]
  },
  {
   "cell_type": "code",
   "execution_count": null,
   "metadata": {},
   "outputs": [],
   "source": []
  }
 ],
 "metadata": {
  "kernelspec": {
   "display_name": "entorno_dev",
   "language": "python",
   "name": "entorno_dev"
  },
  "language_info": {
   "codemirror_mode": {
    "name": "ipython",
    "version": 3
   },
   "file_extension": ".py",
   "mimetype": "text/x-python",
   "name": "python",
   "nbconvert_exporter": "python",
   "pygments_lexer": "ipython3",
   "version": "3.8.3"
  }
 },
 "nbformat": 4,
 "nbformat_minor": 2
}
