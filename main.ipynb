{
 "cells": [
  {
   "cell_type": "markdown",
   "metadata": {},
   "source": [
    "<center>\n",
    "<h1>Detección y conteo de vulgaridades INCLUYENDO y EXCLUYENDO palabras con spanlp</h1><br>\n",
    "</center>\n",
    "<img src=\"data/static/imagen.png\" alt=\"spanlp\">\n",
    "\n",
    "**Problema:**\n",
    "<br><br>\n",
    "Los tweets recolectados (data/tweets.csv') contienen palabras y frases que son considerados vulgaridades pero el cliente quiere que no sean detectadas como tal. Ej: “ladrones” “porqueria” “hdp”  (_Hay que ignorarlas_)\n",
    "\n",
    "De otro lado queremos que palabras como: “pésima” “peor” “robo” “no sirve” “mala” “malo” (_Hay que tenerlas en cuenta_)\n",
    "<br><br>\n",
    "**Objetivos:**\n",
    "<br>\n",
    "* Leer el archivo de datos que contiene los tweets.\n",
    "* Detectar e indicar si los datos tienen vulgaridades.\n",
    "* Contar la cantidad de vulgaridades que hay.\n",
    "* Pedir al usuario las palabras que quiere incluir o excluir en la busqueda"
   ]
  },
  {
   "cell_type": "code",
   "execution_count": 1,
   "metadata": {},
   "outputs": [],
   "source": [
    "from spanlp.palabrota import Palabrota\n",
    "from spanlp.domain.countries import Country\n",
    "import csv"
   ]
  },
  {
   "cell_type": "code",
   "execution_count": 2,
   "metadata": {},
   "outputs": [],
   "source": [
    "def leer_archivo(nombre_archivo:str='', separador_datos:str='', columna:str=''):\n",
    "    tweets = []\n",
    "    with open(nombre_archivo, encoding='utf-8') as data:\n",
    "        reader = csv.DictReader(data, delimiter=separador_datos)\n",
    "        for fila in reader:\n",
    "            tweets.append(fila[columna])\n",
    "    return tweets"
   ]
  },
  {
   "cell_type": "code",
   "execution_count": 15,
   "metadata": {},
   "outputs": [],
   "source": [
    "def validar_vulgaridades(data:list=None, pais:list=None, incluir:list=None, excluir:list=None):\n",
    "    if data is None or len(data) == 0:\n",
    "        raise Exception(\"Oiga! para validar vulgaridades debe enviar datos. esta enviando datos nulos o vacios.\")\n",
    "    \n",
    "    contador_palabrotas = 0\n",
    "    validador = Palabrota(countries=pais, include=incluir, exclude=excluir)\n",
    "    \n",
    "    for texto in data:\n",
    "        if isinstance(texto, str):\n",
    "            es_palabrota = validador.contains_palabrota(texto)\n",
    "            if es_palabrota:\n",
    "                contador_palabrotas += 1\n",
    "    return (contador_palabrotas>0,contador_palabrotas)"
   ]
  },
  {
   "cell_type": "code",
   "execution_count": 4,
   "metadata": {},
   "outputs": [
    {
     "name": "stdout",
     "output_type": "stream",
     "text": [
      "Los datos contienen 7 vulgaridades.\n"
     ]
    }
   ],
   "source": [
    "comments = leer_archivo(nombre_archivo='data/tweets.csv', separador_datos='|', columna='comment_1')\n",
    "contiene, cantidad = validar_vulgaridades(comments)\n",
    "\n",
    "print(f\"Los datos contienen {cantidad} vulgaridades.\" if contiene else \"Los datos no contienen vulgaridades.\")"
   ]
  },
  {
   "cell_type": "markdown",
   "metadata": {},
   "source": [
    "**Entender los parámetros de Palabrota y como funciona Country**"
   ]
  },
  {
   "cell_type": "code",
   "execution_count": 5,
   "metadata": {},
   "outputs": [
    {
     "name": "stdout",
     "output_type": "stream",
     "text": [
      "Country.COLOMBIA\n"
     ]
    }
   ],
   "source": [
    "print(Country.COLOMBIA)\n",
    "#help(Palabrota)"
   ]
  },
  {
   "cell_type": "markdown",
   "metadata": {},
   "source": [
    "**Detectando palabrotas por paises**"
   ]
  },
  {
   "cell_type": "code",
   "execution_count": 18,
   "metadata": {},
   "outputs": [
    {
     "name": "stdout",
     "output_type": "stream",
     "text": [
      "Frase: 'carajo perdi el examen'\n",
      " CO: True VE: True AR: False ME: False\n",
      "\n",
      "Frase: 'me presta la cuchara?'\n",
      " CO: False VE: True AR: False ME: False\n",
      "\n",
      "Frase: 'pendejo gané el examen'\n",
      " CO: True VE: True AR: False ME: True\n",
      "\n",
      "Frase: 'ese forro está bonito'\n",
      " CO: False VE: False AR: True ME: False\n",
      "\n",
      "Frase: 'si por favor, si quiero un pitillo'\n",
      " CO: False VE: False AR: False ME: True\n",
      "\n"
     ]
    }
   ],
   "source": [
    "frases = [\"carajo perdi el examen\", \"me presta la cuchara?\", \"pendejo gané el examen\", \"ese forro está bonito\", \n",
    "          \"si por favor, si quiero un pitillo\"]\n",
    "\n",
    "validador_CO = Palabrota(countries=[Country.COLOMBIA], include=[\"carajo\"])\n",
    "validador_VE = Palabrota(countries=[Country.VENEZUELA])\n",
    "validador_AR = Palabrota(countries=[Country.ARGENTINA])\n",
    "validador_ME = Palabrota(countries=[Country.MEXICO])\n",
    "\n",
    "for frase in frases:\n",
    "    contiene_CO = validador_CO.contains_palabrota(frase)\n",
    "    contiene_VE = validador_VE.contains_palabrota(frase)\n",
    "    contiene_AR = validador_AR.contains_palabrota(frase)\n",
    "    contiene_ME = validador_ME.contains_palabrota(frase)\n",
    "    \n",
    "    print(f\"Frase: '{frase}'\")\n",
    "    print(f\" CO: {contiene_CO} VE: {contiene_VE} AR: {contiene_AR} ME: {contiene_ME}\")\n",
    "    print()"
   ]
  },
  {
   "cell_type": "markdown",
   "metadata": {},
   "source": [
    "**Recibir el pais dinámicamente del usuario y leer tweets**"
   ]
  },
  {
   "cell_type": "code",
   "execution_count": 7,
   "metadata": {},
   "outputs": [],
   "source": [
    "def pedir_pais():\n",
    "    print(\"\"\" Paises disponibles para el análisis: \n",
    "            1 Colombia\n",
    "            2 Venezuela\n",
    "            3 Mexico\n",
    "            4 Argentina\n",
    "            5 Todos\"\"\")\n",
    "    pais_seleccionado = int(input(\"Ingrese:\"))\n",
    "    return {\n",
    "        1: [Country.COLOMBIA],\n",
    "        2: [Country.VENEZUELA],\n",
    "        3: [Country.MEXICO],\n",
    "        4: [Country.ARGENTINA],\n",
    "        5: [Country.COLOMBIA, Country.VENEZUELA, Country.MEXICO, Country.ARGENTINA]\n",
    "    }.get(pais_seleccionado, None)"
   ]
  },
  {
   "cell_type": "code",
   "execution_count": 10,
   "metadata": {},
   "outputs": [],
   "source": [
    "def pedir_palabras_incluir_excluir():\n",
    "    print(\"¿Desea incluir o excluir palabras en la busqueda? (SI/NO):\")\n",
    "    quiere_incluir_excluir = input(\"Respuesta (SI/NO) :\")\n",
    "    if len(quiere_incluir_excluir) > 0 and quiere_incluir_excluir.lower() == \"si\":\n",
    "        print(\"Ingrese la palabras a INCLUIR (separadas por coma (,)) :\")\n",
    "        palabras_a_incluir = input(\"Incluir:\")\n",
    "        print(\"Ingrese la palabras a EXCLUIR (separadas por coma (,)) :\")\n",
    "        palabras_a_excluir = input(\"Excluir:\")\n",
    "        return (palabras_a_incluir.split(\",\"), palabras_a_excluir.split(\",\"))\n",
    "    else:\n",
    "        return (None,None)"
   ]
  },
  {
   "cell_type": "code",
   "execution_count": 20,
   "metadata": {},
   "outputs": [
    {
     "name": "stdout",
     "output_type": "stream",
     "text": [
      "['No tengo servicio !? Que es lo que pasa? ladrones', 'Soluciones más claras a los usuarios :( el servicio es una porqueria', 'Estoy sin servicio de datos, de voz, el servicio hogar es más lento de lo normal, abro la app y está para lo único que funciona es para pagar,de resto no sirve nada, que pasa', 'Buenas tardes, nos pueden indicar por que desde hace varios días el servicio de telefonía y de datos en la ciudad es de mala calidad, está una mierda.', 'Las llamadas presentan mucha interferencia y la conexión a redes sociales o Internet desde el celular es mala.', 'Trabajan todos los días para mirar como robar a los usuarios, no me crean imbecil', 'Pero que pesima señal esta semana q paso y hoy va por lo mismo que pasa den una respuesta malditos....', '@operador @operadorTeAyuda tienen problemas con el servicio?? El Internet está una mierda!!', 'Y si en vez de habilitar medios de pago, solucionan el problema que tienen de red? Nos están dejando incomunicados! HDP', 'no sea pendejo el servicio esta de lo peor, llevo menos de un mes con ustedes y ya estoy que solicito retirarlo. A este paso creo que era mejor las 10M que tenia con @otrooperador', 'El peor servicio, una porqueria. De datos y al cliente. intento cambiar mi plan y siempre me dicen que el sistema no sirve.. la única opción que dan es salir a los centros de atención a contagiar o ser contagiado, idiotas']\n",
      " Paises disponibles para el análisis: \n",
      "            1 Colombia\n",
      "            2 Venezuela\n",
      "            3 Mexico\n",
      "            4 Argentina\n",
      "            5 Todos\n",
      "Ingrese:5\n",
      "¿Desea incluir o excluir palabras en la busqueda? (SI/NO):\n",
      "Respuesta (SI/NO) :si\n",
      "Ingrese la palabras a INCLUIR (separadas por coma (,)) :\n",
      "Incluir:peor,sistema\n",
      "Ingrese la palabras a EXCLUIR (separadas por coma (,)) :\n",
      "Excluir:ladrones,porqueria,mierda,pendejo,imbecil,datos,mirar\n",
      "Los datos contienen 2 vulgaridades para [<Country.COLOMBIA: 'COL'>, <Country.VENEZUELA: 'VEN'>, <Country.MEXICO: 'MEX'>, <Country.ARGENTINA: 'ARG'>].\n"
     ]
    }
   ],
   "source": [
    "comments = leer_archivo(nombre_archivo='data/tweets.csv', separador_datos='|', columna='comment_1')\n",
    "print(comments)\n",
    "pais = pedir_pais()\n",
    "palabras_a_incluir, palabras_a_excluir = pedir_palabras_incluir_excluir()\n",
    "contiene, cantidad = validar_vulgaridades(comments, pais, palabras_a_incluir, palabras_a_excluir)\n",
    "\n",
    "print(f\"Los datos contienen {cantidad} vulgaridades para {pais}.\" if contiene else \"Los datos no contienen vulgaridades.\")"
   ]
  },
  {
   "cell_type": "code",
   "execution_count": null,
   "metadata": {},
   "outputs": [],
   "source": [
    "Ingrese:5\n",
    "¿Desea incluir o excluir palabras en la busqueda? (SI/NO):\n",
    "Respuesta (SI/NO) :si\n",
    "Ingrese la palabras a INCLUIR (separadas por coma (,)) :\n",
    "Incluir:peor,sistema,datos,mirar\n",
    "Ingrese la palabras a EXCLUIR (separadas por coma (,)) :\n",
    "Excluir:ladrones,porqueria,mierda,pendejo,imbecil\n",
    "Los datos contienen 5 vulgaridades para \n",
    "[<Country.COLOMBIA: 'COL'>, <Country.VENEZUELA: 'VEN'>, <Country.MEXICO: 'MEX'>, <Country.ARGENTINA: 'ARG'>]."
   ]
  },
  {
   "cell_type": "markdown",
   "metadata": {},
   "source": [
    "**RETO**"
   ]
  },
  {
   "cell_type": "markdown",
   "metadata": {},
   "source": [
    "Modificar la nueva funcion pedir_palabras_incluir_excluir() para que:\n",
    "* Valide si el usuario no ingresa nada al pedir las palabras.\n",
    "* Valide si el usuario ingresa las palabras separado por otro caracter distinto de coma (,)\n",
    "* solicite al usuario por separado si quiere o no incluir o excluir palabras."
   ]
  },
  {
   "cell_type": "code",
   "execution_count": null,
   "metadata": {},
   "outputs": [],
   "source": []
  }
 ],
 "metadata": {
  "kernelspec": {
   "display_name": "entorno_dev",
   "language": "python",
   "name": "entorno_dev"
  },
  "language_info": {
   "codemirror_mode": {
    "name": "ipython",
    "version": 3
   },
   "file_extension": ".py",
   "mimetype": "text/x-python",
   "name": "python",
   "nbconvert_exporter": "python",
   "pygments_lexer": "ipython3",
   "version": "3.8.3"
  }
 },
 "nbformat": 4,
 "nbformat_minor": 2
}
