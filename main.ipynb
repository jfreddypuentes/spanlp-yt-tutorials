{
 "cells": [
  {
   "cell_type": "markdown",
   "metadata": {},
   "source": [
    "<center>\n",
    "<h1>Detección y conteo de vulgaridades POR PAIS con spanlp</h1><br>\n",
    "</center>\n",
    "<img src=\"data/static/imagen.png\" alt=\"spanlp\">\n",
    "\n",
    "**Problema:**\n",
    "<br><br>\n",
    "El archivo tweets.csv contiene trinos de personas que comentan \n",
    "sobre el servicio de un operador de telefonía ubicado en distintos países de Latinoamerica. Se desea saber si contiene o no vulgaridades y cuantas son para los paises de interés del cliente.\n",
    "<br><br>\n",
    "**Objetivos:**\n",
    "<br>\n",
    "* Leer el archivo de datos que contiene los tweets.\n",
    "* Detectar e indicar si los datos tienen vulgaridades.\n",
    "* Contar la cantidad de vulgaridades que hay.\n",
    "\n",
    "Lo anterior, de acuerdo al país de interés."
   ]
  },
  {
   "cell_type": "code",
   "execution_count": 5,
   "metadata": {},
   "outputs": [],
   "source": [
    "from spanlp.palabrota import Palabrota\n",
    "from spanlp.domain.countries import Country\n",
    "import csv"
   ]
  },
  {
   "cell_type": "code",
   "execution_count": 2,
   "metadata": {},
   "outputs": [],
   "source": [
    "def leer_archivo(nombre_archivo:str='', separador_datos:str='', columna:str=''):\n",
    "    tweets = []\n",
    "    with open(nombre_archivo, encoding='utf-8') as data:\n",
    "        reader = csv.DictReader(data, delimiter=separador_datos)\n",
    "        for fila in reader:\n",
    "            tweets.append(fila[columna])\n",
    "    return tweets"
   ]
  },
  {
   "cell_type": "code",
   "execution_count": 23,
   "metadata": {},
   "outputs": [],
   "source": [
    "def validar_vulgaridades(data:list=None, pais:list=None):\n",
    "    if data is None or len(data) == 0:\n",
    "        raise Exception(\"Oiga! para validar vulgaridades debe enviar datos. esta enviando datos nulos o vacios.\")\n",
    "    \n",
    "    contador_palabrotas = 0\n",
    "    validador = Palabrota(countries=pais)\n",
    "    \n",
    "    for texto in data:\n",
    "        if isinstance(texto, str):\n",
    "            es_palabrota = validador.contains_palabrota(texto)\n",
    "            if es_palabrota:\n",
    "                contador_palabrotas += 1\n",
    "    return (contador_palabrotas>0,contador_palabrotas)"
   ]
  },
  {
   "cell_type": "code",
   "execution_count": 4,
   "metadata": {},
   "outputs": [
    {
     "name": "stdout",
     "output_type": "stream",
     "text": [
      "Los datos contienen 7 vulgaridades.\n"
     ]
    }
   ],
   "source": [
    "comments = leer_archivo(nombre_archivo='data/tweets.csv', separador_datos='|', columna='comment_1')\n",
    "contiene, cantidad = validar_vulgaridades(comments)\n",
    "\n",
    "print(f\"Los datos contienen {cantidad} vulgaridades.\" if contiene else \"Los datos no contienen vulgaridades.\")"
   ]
  },
  {
   "cell_type": "markdown",
   "metadata": {},
   "source": [
    "**Entender los parámetros de Palabrota y como funciona Country**"
   ]
  },
  {
   "cell_type": "code",
   "execution_count": 11,
   "metadata": {},
   "outputs": [
    {
     "name": "stdout",
     "output_type": "stream",
     "text": [
      "Country.COLOMBIA\n"
     ]
    }
   ],
   "source": [
    "print(Country.COLOMBIA)\n",
    "#help(Palabrota)"
   ]
  },
  {
   "cell_type": "markdown",
   "metadata": {},
   "source": [
    "**Detectando palabrotas por paises**"
   ]
  },
  {
   "cell_type": "code",
   "execution_count": 13,
   "metadata": {},
   "outputs": [
    {
     "name": "stdout",
     "output_type": "stream",
     "text": [
      "Frase: 'carajo perdi el examen'\n",
      " CO: False VE: True AR: False ME: False\n",
      "\n",
      "Frase: 'me presta la cuchara?'\n",
      " CO: False VE: True AR: False ME: False\n",
      "\n",
      "Frase: 'pendejo gané el examen'\n",
      " CO: True VE: True AR: False ME: True\n",
      "\n",
      "Frase: 'ese forro está bonito'\n",
      " CO: False VE: False AR: True ME: False\n",
      "\n",
      "Frase: 'si por favor, si quiero un pitillo'\n",
      " CO: False VE: False AR: False ME: True\n",
      "\n"
     ]
    }
   ],
   "source": [
    "frases = [\"carajo perdi el examen\", \"me presta la cuchara?\", \"pendejo gané el examen\", \"ese forro está bonito\", \n",
    "          \"si por favor, si quiero un pitillo\"]\n",
    "\n",
    "validador_CO = Palabrota(countries=[Country.COLOMBIA])\n",
    "validador_VE = Palabrota(countries=[Country.VENEZUELA])\n",
    "validador_AR = Palabrota(countries=[Country.ARGENTINA])\n",
    "validador_ME = Palabrota(countries=[Country.MEXICO])\n",
    "\n",
    "for frase in frases:\n",
    "    contiene_CO = validador_CO.contains_palabrota(frase)\n",
    "    contiene_VE = validador_VE.contains_palabrota(frase)\n",
    "    contiene_AR = validador_AR.contains_palabrota(frase)\n",
    "    contiene_ME = validador_ME.contains_palabrota(frase)\n",
    "    \n",
    "    print(f\"Frase: '{frase}'\")\n",
    "    print(f\" CO: {contiene_CO} VE: {contiene_VE} AR: {contiene_AR} ME: {contiene_ME}\")\n",
    "    print()"
   ]
  },
  {
   "cell_type": "markdown",
   "metadata": {},
   "source": [
    "**Recibir el pais dinámicamente del usuario y leer tweets**"
   ]
  },
  {
   "cell_type": "code",
   "execution_count": 18,
   "metadata": {},
   "outputs": [],
   "source": [
    "def pedir_pais():\n",
    "    print(\"\"\" Paises disponibles para el análisis: \n",
    "            1 Colombia\n",
    "            2 Venezuela\n",
    "            3 Mexico\n",
    "            4 Argentina\n",
    "            5 Todos\"\"\")\n",
    "    pais_seleccionado = int(input(\"Ingrese:\"))\n",
    "    return {\n",
    "        1: [Country.COLOMBIA],\n",
    "        2: [Country.VENEZUELA],\n",
    "        3: [Country.MEXICO],\n",
    "        4: [Country.ARGENTINA],\n",
    "        5: [Country.COLOMBIA, Country.VENEZUELA, Country.MEXICO, Country.ARGENTINA]\n",
    "    }.get(pais_seleccionado, None)"
   ]
  },
  {
   "cell_type": "code",
   "execution_count": 28,
   "metadata": {},
   "outputs": [
    {
     "name": "stdout",
     "output_type": "stream",
     "text": [
      " Paises disponibles para el análisis: \n",
      "            1 Colombia\n",
      "            2 Venezuela\n",
      "            3 Mexico\n",
      "            4 Argentina\n",
      "            5 Todos\n",
      "Ingrese:4\n",
      "Los datos contienen 2 vulgaridades para [<Country.ARGENTINA: 'ARG'>].\n"
     ]
    }
   ],
   "source": [
    "comments = leer_archivo(nombre_archivo='data/tweets.csv', separador_datos='|', columna='comment_1')\n",
    "pais = pedir_pais()\n",
    "contiene, cantidad = validar_vulgaridades(comments, pais)\n",
    "\n",
    "print(f\"Los datos contienen {cantidad} vulgaridades para {pais}.\" if contiene else \"Los datos no contienen vulgaridades.\")"
   ]
  },
  {
   "cell_type": "markdown",
   "metadata": {},
   "source": [
    "**RETO**"
   ]
  },
  {
   "cell_type": "code",
   "execution_count": null,
   "metadata": {},
   "outputs": [],
   "source": [
    "Vulgaridades encontradas por pais:\n",
    "\n",
    "Country.COLOMBIA: 2\n",
    "Country.VENEZUELA:  3\n",
    "Country.MEXICO: 1\n",
    "Country.ARGENTINA: 6"
   ]
  }
 ],
 "metadata": {
  "kernelspec": {
   "display_name": "entorno_dev",
   "language": "python",
   "name": "entorno_dev"
  },
  "language_info": {
   "codemirror_mode": {
    "name": "ipython",
    "version": 3
   },
   "file_extension": ".py",
   "mimetype": "text/x-python",
   "name": "python",
   "nbconvert_exporter": "python",
   "pygments_lexer": "ipython3",
   "version": "3.8.3"
  }
 },
 "nbformat": 4,
 "nbformat_minor": 2
}
