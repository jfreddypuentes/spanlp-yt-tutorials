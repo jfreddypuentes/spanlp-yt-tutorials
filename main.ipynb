{
 "cells": [
  {
   "cell_type": "markdown",
   "metadata": {},
   "source": [
    "<center>\n",
    "<h1>Detección y conteo de vulgaridades en textos en Español con spanlp</h1><br>\n",
    "</center>\n",
    "<img src=\"static/imagen.png\" alt=\"spanlp\">\n",
    "\n",
    "**Problema:**\n",
    "<br><br>\n",
    "El archivo tweets.csv contiene trinos de personas que comentan \n",
    "sobre el servicio de un operador de telefonía. Se desea saber si contiene o no vulgaridades y cuantas son.\n",
    "<br><br>\n",
    "**Objetivos:**\n",
    "<br>\n",
    "* Leer el archivo de datos que contiene los tweets.\n",
    "* Detectar e indicar si los datos tienen vulgaridades o no.\n",
    "* Contar la cantidad de vulgaridades que hay."
   ]
  },
  {
   "cell_type": "code",
   "execution_count": 3,
   "metadata": {},
   "outputs": [],
   "source": [
    "def leer_archivo(nombre_archivo:str='', separador_datos:str='', columna:str=''):\n",
    "    tweets = []\n",
    "    with open(nombre_archivo, encoding='utf-8') as data:\n",
    "        reader = csv.DictReader(data, delimiter=separador_datos)\n",
    "        for fila in reader:\n",
    "            tweets.append(fila[columna])\n",
    "    return tweets"
   ]
  },
  {
   "cell_type": "code",
   "execution_count": 5,
   "metadata": {},
   "outputs": [],
   "source": [
    "def validar_vulgaridades(data:list=None):\n",
    "    if data is None or len(data) == 0:\n",
    "        raise Exception(\"Oiga! para validar vulgaridades debe enviar datos. esta enviando datos nulos o vacios.\")\n",
    "    \n",
    "    contador_palabrotas = 0\n",
    "    \n",
    "    for texto in data:\n",
    "        if isinstance(texto, str):\n",
    "            es_palabrota = validador.contains_palabrota(texto)\n",
    "            if es_palabrota:\n",
    "                contador_palabrotas += 1\n",
    "    return (contador_palabrotas>0,contador_palabrotas)"
   ]
  },
  {
   "cell_type": "code",
   "execution_count": 10,
   "metadata": {},
   "outputs": [
    {
     "name": "stdout",
     "output_type": "stream",
     "text": [
      "Los datos contienen 7 vulgaridades.\n"
     ]
    }
   ],
   "source": [
    "comments = leer_archivo(nombre_archivo='tweets.csv', separador_datos='|', columna='comment_1')\n",
    "contiene, cantidad = validar_vulgaridades(comments)\n",
    "\n",
    "print(f\"Los datos contienen {cantidad} vulgaridades.\" if contiene else \"Los datos no contienen vulgaridades.\")"
   ]
  },
  {
   "cell_type": "code",
   "execution_count": null,
   "metadata": {},
   "outputs": [],
   "source": []
  }
 ],
 "metadata": {
  "kernelspec": {
   "display_name": "entorno_dev",
   "language": "python",
   "name": "entorno_dev"
  },
  "language_info": {
   "codemirror_mode": {
    "name": "ipython",
    "version": 3
   },
   "file_extension": ".py",
   "mimetype": "text/x-python",
   "name": "python",
   "nbconvert_exporter": "python",
   "pygments_lexer": "ipython3",
   "version": "3.8.3"
  }
 },
 "nbformat": 4,
 "nbformat_minor": 2
}
